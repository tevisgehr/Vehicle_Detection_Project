{
 "cells": [
  {
   "cell_type": "markdown",
   "metadata": {},
   "source": [
    "# Steps:\n",
    "\n",
    "\n",
    "## Creating a classifier:\n",
    "Import training data.  \n",
    "\n",
    "Examine features and transforms.  \n",
    "\n",
    "Extract features.  \n",
    "\n",
    "Train classifier.  \n",
    "\n",
    "Perform feature reduction(?) (See ML project)  \n",
    "\n",
    "Optimize classifier.  \n",
    "\n",
    "\n",
    "## Creating a pipeline:\n",
    "Create tunable window sliding.\n",
    "\n",
    "Impliment detection pipleine.\n",
    "\n",
    "Test on various images.\n",
    "\n",
    "## Tune (wrap) pipeline for video:\n",
    "Use a class to track vehicle locations from frame to frame.  \n",
    "\n",
    "Filter out false positives (real cars should only move a built from frame to frame).\n",
    "\n",
    "## Combine with lane finder\n",
    "\n",
    "\n"
   ]
  },
  {
   "cell_type": "code",
   "execution_count": null,
   "metadata": {
    "collapsed": true
   },
   "outputs": [],
   "source": []
  }
 ],
 "metadata": {
  "anaconda-cloud": {},
  "kernelspec": {
   "display_name": "Python [conda env:carnd-term1]",
   "language": "python",
   "name": "conda-env-carnd-term1-py"
  },
  "language_info": {
   "codemirror_mode": {
    "name": "ipython",
    "version": 3
   },
   "file_extension": ".py",
   "mimetype": "text/x-python",
   "name": "python",
   "nbconvert_exporter": "python",
   "pygments_lexer": "ipython3",
   "version": "3.5.2"
  }
 },
 "nbformat": 4,
 "nbformat_minor": 1
}
